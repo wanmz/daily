{
 "cells": [
  {
   "cell_type": "code",
   "execution_count": 2,
   "id": "matched-siemens",
   "metadata": {},
   "outputs": [
    {
     "data": {
      "text/plain": [
       "<bound method DataFrame.info of        区      小区       户型      成交量      出租量  区域   次区域   中介 房屋总量      价格\n",
       "0     东城  新景家园东区      NaN  30天成交6套  33套正在出租  东城   崇文门  李云凤  53套  105433\n",
       "1     东城  兴隆都市馨园      NaN  30天成交5套  41套正在出租  东城   崇文门  史文峰  73套  104992\n",
       "2     东城   胡家园小区  共202个户型  30天成交0套  13套正在出租  东城   东直门  康泽强  11套   90015\n",
       "3     东城    豆角胡同      NaN  30天成交2套   0套正在出租  东城   地安门   张莹   0套  137008\n",
       "4     东城     定安里      NaN  30天成交1套   8套正在出租  东城   永定门  周明志  11套   66755\n",
       "...   ..     ...      ...      ...      ...  ..   ...  ...  ...     ...\n",
       "8233  延庆    温泉西里      NaN  30天成交0套   0套正在出租  延庆  延庆其它  NaN   0套    暂无数据\n",
       "8234  延庆    格兰山水      NaN  30天成交0套   0套正在出租  延庆  延庆其它  NaN   0套    暂无数据\n",
       "8235  延庆    康安小区      NaN  30天成交0套   0套正在出租  延庆  延庆其它  NaN   0套   22831\n",
       "8236  延庆   尚书苑小区      NaN  30天成交0套   0套正在出租  延庆  延庆其它  NaN   0套    暂无数据\n",
       "8237  延庆    东关新区      NaN  30天成交0套   0套正在出租  延庆  延庆其它  NaN   0套    暂无数据\n",
       "\n",
       "[8238 rows x 10 columns]>"
      ]
     },
     "execution_count": 2,
     "metadata": {},
     "output_type": "execute_result"
    }
   ],
   "source": [
    "import pandas as pd\n",
    "import matplotlib.pyplot as plt\n",
    "\n",
    "df = pd.read_excel(r\"C:\\Users\\Administrator\\Desktop\\北京二手房.xls\")\n",
    "df.info"
   ]
  },
  {
   "cell_type": "code",
   "execution_count": 4,
   "id": "removed-gilbert",
   "metadata": {},
   "outputs": [
    {
     "ename": "AttributeError",
     "evalue": "'int' object has no attribute 'strip'",
     "output_type": "error",
     "traceback": [
      "\u001b[1;31m---------------------------------------------------------------------------\u001b[0m",
      "\u001b[1;31mAttributeError\u001b[0m                            Traceback (most recent call last)",
      "\u001b[1;32m<ipython-input-4-6b9b02ac8287>\u001b[0m in \u001b[0;36m<module>\u001b[1;34m\u001b[0m\n\u001b[0;32m      1\u001b[0m \u001b[0mhouse\u001b[0m \u001b[1;33m=\u001b[0m \u001b[0mdf\u001b[0m\u001b[1;33m[\u001b[0m\u001b[1;34m\"房屋总量\"\u001b[0m\u001b[1;33m]\u001b[0m\u001b[1;33m.\u001b[0m\u001b[0mcopy\u001b[0m\u001b[1;33m(\u001b[0m\u001b[1;33m)\u001b[0m\u001b[1;33m\u001b[0m\u001b[0m\n\u001b[0;32m      2\u001b[0m \u001b[1;32mfor\u001b[0m \u001b[0mi\u001b[0m \u001b[1;32min\u001b[0m \u001b[0mrange\u001b[0m\u001b[1;33m(\u001b[0m\u001b[0mlen\u001b[0m\u001b[1;33m(\u001b[0m\u001b[0mhouse\u001b[0m\u001b[1;33m)\u001b[0m\u001b[1;33m)\u001b[0m\u001b[1;33m:\u001b[0m\u001b[1;33m\u001b[0m\u001b[0m\n\u001b[1;32m----> 3\u001b[1;33m     \u001b[0mitem\u001b[0m \u001b[1;33m=\u001b[0m \u001b[0mhouse\u001b[0m\u001b[1;33m.\u001b[0m\u001b[0miloc\u001b[0m\u001b[1;33m[\u001b[0m\u001b[0mi\u001b[0m\u001b[1;33m]\u001b[0m\u001b[1;33m.\u001b[0m\u001b[0mstrip\u001b[0m\u001b[1;33m(\u001b[0m\u001b[1;33m)\u001b[0m\u001b[1;33m\u001b[0m\u001b[0m\n\u001b[0m\u001b[0;32m      4\u001b[0m     \u001b[0mhouse\u001b[0m\u001b[1;33m.\u001b[0m\u001b[0miloc\u001b[0m\u001b[1;33m[\u001b[0m\u001b[0mi\u001b[0m\u001b[1;33m]\u001b[0m \u001b[1;33m=\u001b[0m \u001b[0mint\u001b[0m\u001b[1;33m(\u001b[0m\u001b[0mitem\u001b[0m\u001b[1;33m[\u001b[0m\u001b[1;33m:\u001b[0m\u001b[1;33m-\u001b[0m\u001b[1;36m1\u001b[0m\u001b[1;33m]\u001b[0m\u001b[1;33m)\u001b[0m\u001b[1;33m\u001b[0m\u001b[0m\n\u001b[0;32m      5\u001b[0m     \u001b[1;31m# print(item[:-1])\u001b[0m\u001b[1;33m\u001b[0m\u001b[1;33m\u001b[0m\u001b[0m\n",
      "\u001b[1;31mAttributeError\u001b[0m: 'int' object has no attribute 'strip'"
     ]
    }
   ],
   "source": [
    "house = df[\"房屋总量\"].copy()\n",
    "for i in range(len(house)):\n",
    "    item = house.iloc[i].strip()\n",
    "    house.iloc[i] = int(item[:-1])\n",
    "    # print(item[:-1])\n",
    "df[\"房屋总量\"] = house\n",
    "df.head(10)"
   ]
  },
  {
   "cell_type": "code",
   "execution_count": null,
   "id": "tracked-shock",
   "metadata": {},
   "outputs": [],
   "source": []
  }
 ],
 "metadata": {
  "kernelspec": {
   "display_name": "Python 3",
   "language": "python",
   "name": "python3"
  },
  "language_info": {
   "codemirror_mode": {
    "name": "ipython",
    "version": 3
   },
   "file_extension": ".py",
   "mimetype": "text/x-python",
   "name": "python",
   "nbconvert_exporter": "python",
   "pygments_lexer": "ipython3",
   "version": "3.6.5"
  }
 },
 "nbformat": 4,
 "nbformat_minor": 5
}
