{
 "cells": [
  {
   "cell_type": "code",
   "execution_count": null,
   "id": "civilian-tactics",
   "metadata": {},
   "outputs": [
    {
     "name": "stdout",
     "output_type": "stream",
     "text": [
      "请输入4\n",
      "5\n",
      "请输入2\n",
      "1\n",
      "请输入2\n",
      "2\n",
      "请输入1\n",
      "4\n",
      "请输入3\n",
      "2\n",
      "请输入1\n",
      "4\n",
      "请输入2\n",
      "3\n",
      "请输入1\n",
      "4\n",
      "请输入2\n",
      "3\n",
      "请输入12\n",
      "5\n",
      "请输入21\n",
      "5\n"
     ]
    }
   ],
   "source": [
    "import random \n",
    "while int(input(\"请输入\")):\n",
    "    print(random.randint(1,6))"
   ]
  },
  {
   "cell_type": "code",
   "execution_count": null,
   "id": "express-square",
   "metadata": {},
   "outputs": [],
   "source": []
  }
 ],
 "metadata": {
  "kernelspec": {
   "display_name": "Python 3",
   "language": "python",
   "name": "python3"
  },
  "language_info": {
   "codemirror_mode": {
    "name": "ipython",
    "version": 3
   },
   "file_extension": ".py",
   "mimetype": "text/x-python",
   "name": "python",
   "nbconvert_exporter": "python",
   "pygments_lexer": "ipython3",
   "version": "3.6.5"
  }
 },
 "nbformat": 4,
 "nbformat_minor": 5
}
