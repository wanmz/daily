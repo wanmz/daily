{
 "cells": [
  {
   "cell_type": "code",
   "execution_count": 1,
   "id": "based-texture",
   "metadata": {},
   "outputs": [
    {
     "name": "stdout",
     "output_type": "stream",
     "text": [
      "1.1.5\n"
     ]
    }
   ],
   "source": [
    "import pandas as pd\n",
    "print(pd.__version__)\n"
   ]
  },
  {
   "cell_type": "code",
   "execution_count": 2,
   "id": "hungry-square",
   "metadata": {},
   "outputs": [
    {
     "name": "stdout",
     "output_type": "stream",
     "text": [
      "{'system': {'commit': 'b5958ee1999e9aead1938c0bba2b674378807b3d', 'python': '3.6.5.final.0', 'python-bits': 64, 'OS': 'Windows', 'OS-release': '10', 'Version': '10.0.18362', 'machine': 'AMD64', 'processor': 'Intel64 Family 6 Model 94 Stepping 3, GenuineIntel', 'byteorder': 'little', 'LC_ALL': None, 'LANG': None, 'LOCALE': {'language-code': None, 'encoding': None}}, 'dependencies': {'pandas': '1.1.5', 'numpy': '1.16.0', 'pytz': '2018.9', 'dateutil': '2.8.0', 'pip': '19.0.3', 'setuptools': '40.8.0', 'Cython': None, 'pytest': None, 'hypothesis': None, 'sphinx': None, 'blosc': None, 'feather': None, 'xlsxwriter': None, 'lxml.etree': '4.3.1', 'html5lib': None, 'pymysql': '0.9.2', 'psycopg2': None, 'jinja2': '2.10.3', 'IPython': '7.16.1', 'pandas_datareader': None, 'bs4': '4.5.3', 'bottleneck': None, 'fsspec': None, 'fastparquet': None, 'gcsfs': None, 'matplotlib': '3.1.1', 'numexpr': None, 'odfpy': None, 'openpyxl': '3.0.7', 'pandas_gbq': None, 'pyarrow': None, 'pytables': None, 'pyxlsb': None, 's3fs': None, 'scipy': '1.3.1', 'sqlalchemy': None, 'tables': None, 'tabulate': None, 'xarray': None, 'xlrd': '2.0.1', 'xlwt': None, 'numba': None}}\n"
     ]
    }
   ],
   "source": [
    "pd.show_versions(as_json=True)"
   ]
  },
  {
   "cell_type": "code",
   "execution_count": 3,
   "id": "regulation-weekly",
   "metadata": {},
   "outputs": [
    {
     "name": "stdout",
     "output_type": "stream",
     "text": [
      "\n",
      "INSTALLED VERSIONS\n",
      "------------------\n",
      "commit           : b5958ee1999e9aead1938c0bba2b674378807b3d\n",
      "python           : 3.6.5.final.0\n",
      "python-bits      : 64\n",
      "OS               : Windows\n",
      "OS-release       : 10\n",
      "Version          : 10.0.18362\n",
      "machine          : AMD64\n",
      "processor        : Intel64 Family 6 Model 94 Stepping 3, GenuineIntel\n",
      "byteorder        : little\n",
      "LC_ALL           : None\n",
      "LANG             : None\n",
      "LOCALE           : None.None\n",
      "\n",
      "pandas           : 1.1.5\n",
      "numpy            : 1.16.0\n",
      "pytz             : 2018.9\n",
      "dateutil         : 2.8.0\n",
      "pip              : 19.0.3\n",
      "setuptools       : 40.8.0\n",
      "Cython           : None\n",
      "pytest           : None\n",
      "hypothesis       : None\n",
      "sphinx           : None\n",
      "blosc            : None\n",
      "feather          : None\n",
      "xlsxwriter       : None\n",
      "lxml.etree       : 4.3.1\n",
      "html5lib         : None\n",
      "pymysql          : 0.9.2\n",
      "psycopg2         : None\n",
      "jinja2           : 2.10.3\n",
      "IPython          : 7.16.1\n",
      "pandas_datareader: None\n",
      "bs4              : 4.5.3\n",
      "bottleneck       : None\n",
      "fsspec           : None\n",
      "fastparquet      : None\n",
      "gcsfs            : None\n",
      "matplotlib       : 3.1.1\n",
      "numexpr          : None\n",
      "odfpy            : None\n",
      "openpyxl         : 3.0.7\n",
      "pandas_gbq       : None\n",
      "pyarrow          : None\n",
      "pytables         : None\n",
      "pyxlsb           : None\n",
      "s3fs             : None\n",
      "scipy            : 1.3.1\n",
      "sqlalchemy       : None\n",
      "tables           : None\n",
      "tabulate         : None\n",
      "xarray           : None\n",
      "xlrd             : 2.0.1\n",
      "xlwt             : None\n",
      "numba            : None\n"
     ]
    }
   ],
   "source": [
    "pd.show_versions()"
   ]
  },
  {
   "cell_type": "code",
   "execution_count": 6,
   "id": "electric-female",
   "metadata": {},
   "outputs": [
    {
     "name": "stdout",
     "output_type": "stream",
     "text": [
      "0    a\n",
      "1    b\n",
      "2    c\n",
      "dtype: object\n",
      "0    0\n",
      "1    1\n",
      "2    2\n",
      "dtype: int32\n",
      "a    0\n",
      "b    1\n",
      "c    2\n",
      "e    3\n",
      "dtype: int64\n"
     ]
    }
   ],
   "source": [
    "import pandas as pd\n",
    "import numpy as np\n",
    "mylist = list('abcedfghijklmnopqrstuvwxyz')# list\n",
    "myarr = np.arange(26)#numpy.ndarray\n",
    "mydict = dict(zip(mylist, myarr))#dict\n",
    "\n",
    "ser1 = pd.Series(mylist)\n",
    "ser2 = pd.Series(myarr)\n",
    "ser3 = pd.Series(mydict)\n",
    "print(ser1.head(3))\n",
    "print(ser2.head(3))\n",
    "print(ser3.head(4))"
   ]
  },
  {
   "cell_type": "code",
   "execution_count": 9,
   "id": "neither-shore",
   "metadata": {},
   "outputs": [
    {
     "name": "stdout",
     "output_type": "stream",
     "text": [
      "a     0\n",
      "b     1\n",
      "c     2\n",
      "e     3\n",
      "d     4\n",
      "f     5\n",
      "g     6\n",
      "h     7\n",
      "i     8\n",
      "j     9\n",
      "k    10\n",
      "l    11\n",
      "m    12\n",
      "n    13\n",
      "o    14\n",
      "p    15\n",
      "q    16\n",
      "r    17\n",
      "s    18\n",
      "t    19\n",
      "u    20\n",
      "v    21\n",
      "w    22\n",
      "x    23\n",
      "y    24\n",
      "z    25\n",
      "dtype: int64\n",
      "   0\n",
      "a  0\n",
      "b  1\n",
      "c  2\n",
      "e  3\n",
      "d  4\n"
     ]
    }
   ],
   "source": [
    "mylist = list('abcedfghijklmnopqrstuvwxyz')\n",
    "myarr = np.arange(26)\n",
    "mydict = dict(zip(mylist, myarr))\n",
    "ser = pd.Series(mydict)\n",
    "print(ser)\n",
    "# 新增重置索引\n",
    "df = ser.to_frame().reset_index()\n",
    "print(df.head())"
   ]
  },
  {
   "cell_type": "code",
   "execution_count": 12,
   "id": "cooperative-shock",
   "metadata": {},
   "outputs": [
    {
     "name": "stdout",
     "output_type": "stream",
     "text": [
      "    0   1\n",
      "0   a   0\n",
      "1   b   1\n",
      "2   c   2\n",
      "3   e   3\n",
      "4   d   4\n",
      "5   f   5\n",
      "6   g   6\n",
      "7   h   7\n",
      "8   i   8\n",
      "9   j   9\n",
      "10  k  10\n",
      "11  l  11\n",
      "12  m  12\n",
      "13  n  13\n",
      "14  o  14\n",
      "15  p  15\n",
      "16  q  16\n",
      "17  r  17\n",
      "18  s  18\n",
      "19  t  19\n",
      "20  u  20\n",
      "21  v  21\n",
      "22  w  22\n",
      "23  x  23\n",
      "24  y  24\n",
      "25  z  25\n",
      "  col1  col2\n",
      "0    a     0\n",
      "1    b     1\n",
      "2    c     2\n",
      "3    e     3\n",
      "4    d     4\n"
     ]
    }
   ],
   "source": [
    "# 输入\n",
    "import numpy as np\n",
    "ser1 = pd.Series(list('abcedfghijklmnopqrstuvwxyz'))\n",
    "ser2 = pd.Series(np.arange(26))\n",
    "\n",
    "\n",
    "# 解决方法1\n",
    "df = pd.concat([ser1, ser2], axis=1)\n",
    "\n",
    "# 解决方法2\n",
    "df = pd.DataFrame({'col1': ser1, 'col2': ser2})\n",
    "print(df.head())"
   ]
  },
  {
   "cell_type": "code",
   "execution_count": 13,
   "id": "retained-usage",
   "metadata": {},
   "outputs": [
    {
     "name": "stdout",
     "output_type": "stream",
     "text": [
      "交集\n",
      "0    4\n",
      "1    5\n",
      "dtype: int64\n",
      "并集\n",
      "0    1\n",
      "1    2\n",
      "2    3\n",
      "3    4\n",
      "4    5\n",
      "5    6\n",
      "6    7\n",
      "7    8\n",
      "dtype: int64\n",
      "差集\n",
      "0    1\n",
      "1    2\n",
      "2    3\n",
      "5    6\n",
      "6    7\n",
      "7    8\n",
      "dtype: int64\n"
     ]
    }
   ],
   "source": [
    "ser1 = pd.Series([1, 2, 3, 4, 5])\n",
    "ser2 = pd.Series([4, 5, 6, 7, 8])\n",
    "\n",
    "ser_u = pd.Series(np.union1d(ser1, ser2))  # union\n",
    "ser_i = pd.Series(np.intersect1d(ser1, ser2))  # intersect\n",
    "ser_s = ser_u[~ser_u.isin(ser_i)]# Subtraction\n",
    "\n",
    "print(\"交集\")\n",
    "print(ser_i)\n",
    "\n",
    "print(\"并集\")\n",
    "print(ser_u)\n",
    "\n",
    "print(\"差集\")\n",
    "print(ser_s)"
   ]
  },
  {
   "cell_type": "code",
   "execution_count": 16,
   "id": "happy-manchester",
   "metadata": {},
   "outputs": [
    {
     "name": "stdout",
     "output_type": "stream",
     "text": [
      "<mtrand.RandomState object at 0x000001B6BC24DB88>\n",
      "0      1.251173\n",
      "1     11.713402\n",
      "2     15.765179\n",
      "3      8.737820\n",
      "4     14.906604\n",
      "5     12.571094\n",
      "6     11.105898\n",
      "7      4.649783\n",
      "8      9.052521\n",
      "9     11.275007\n",
      "10     7.709865\n",
      "11    12.175817\n",
      "12     7.082025\n",
      "13    14.084235\n",
      "14    13.363604\n",
      "15     9.477944\n",
      "16     7.343598\n",
      "17    15.148663\n",
      "18     7.809322\n",
      "19     4.408409\n",
      "20    18.094908\n",
      "21    17.708026\n",
      "22     8.740604\n",
      "23     5.787821\n",
      "24    10.922593\n",
      "dtype: float64\n"
     ]
    },
    {
     "data": {
      "text/plain": [
       "array([ 1.25117263,  7.70986507, 10.92259345, 13.36360403, 18.0949083 ])"
      ]
     },
     "execution_count": 16,
     "metadata": {},
     "output_type": "execute_result"
    }
   ],
   "source": [
    "state = np.random.RandomState(100)\n",
    "print(state)\n",
    "ser = pd.Series(state.normal(10, 5, 25))\n",
    "print(ser)\n",
    "\n",
    "np.percentile(ser, q=[0, 25, 50, 75, 100])#可是设置其它任何想输出的分位数"
   ]
  },
  {
   "cell_type": "code",
   "execution_count": 17,
   "id": "medium-illinois",
   "metadata": {},
   "outputs": [
    {
     "name": "stdout",
     "output_type": "stream",
     "text": [
      "0     9\n",
      "1     8\n",
      "2     1\n",
      "3     5\n",
      "4     9\n",
      "5     3\n",
      "6     4\n",
      "7     7\n",
      "8     1\n",
      "9     3\n",
      "10    8\n",
      "11    7\n",
      "12    7\n",
      "13    7\n",
      "14    1\n",
      "15    7\n",
      "16    9\n",
      "17    4\n",
      "18    3\n",
      "19    8\n",
      "20    2\n",
      "21    4\n",
      "22    3\n",
      "23    2\n",
      "24    7\n",
      "25    7\n",
      "26    2\n",
      "27    8\n",
      "28    7\n",
      "29    6\n",
      "30    7\n",
      "31    7\n",
      "32    9\n",
      "33    4\n",
      "34    2\n",
      "dtype: int32\n",
      "   0  1  2  3  4\n",
      "0  9  8  1  5  9\n",
      "1  3  4  7  1  3\n",
      "2  8  7  7  7  1\n",
      "3  7  9  4  3  8\n",
      "4  2  4  3  2  7\n",
      "5  7  2  8  7  6\n",
      "6  7  7  9  4  2\n"
     ]
    }
   ],
   "source": [
    "# 1-10内取随机数，数个数为35个\n",
    "ser = pd.Series(np.random.randint(1, 10, 35))\n",
    "# print(ser)\n",
    "\n",
    "# 组成7行5列得dataFrame\n",
    "df = pd.DataFrame(ser.values.reshape(7,5))\n",
    "print(df)"
   ]
  },
  {
   "cell_type": "code",
   "execution_count": 18,
   "id": "quantitative-emerald",
   "metadata": {},
   "outputs": [
    {
     "name": "stdout",
     "output_type": "stream",
     "text": [
      "0    3\n",
      "1    7\n",
      "2    5\n",
      "3    4\n",
      "4    2\n",
      "5    1\n",
      "6    9\n",
      "dtype: int32\n"
     ]
    },
    {
     "data": {
      "text/plain": [
       "array([[0],\n",
       "       [6]], dtype=int64)"
      ]
     },
     "execution_count": 18,
     "metadata": {},
     "output_type": "execute_result"
    }
   ],
   "source": [
    "np.random.seed(666) \n",
    "ser = pd.Series(np.random.randint(1, 10, 7))\n",
    "\n",
    "\n",
    "print(ser)\n",
    "# 返回非0的数组元组的索引\n",
    "np.argwhere(ser.values % 3 == 0)"
   ]
  },
  {
   "cell_type": "code",
   "execution_count": 19,
   "id": "sporting-recall",
   "metadata": {},
   "outputs": [
    {
     "data": {
      "text/plain": [
       "0     a\n",
       "4     e\n",
       "8     i\n",
       "14    o\n",
       "20    u\n",
       "dtype: object"
      ]
     },
     "execution_count": 19,
     "metadata": {},
     "output_type": "execute_result"
    }
   ],
   "source": [
    "ser = pd.Series(list('abcdefghijklmnopqrstuvwxyz'))\n",
    "pos = [0, 4, 8, 14, 20]#待取出位置\n",
    "\n",
    "ser.take(pos)"
   ]
  },
  {
   "cell_type": "code",
   "execution_count": 21,
   "id": "exposed-academy",
   "metadata": {},
   "outputs": [
    {
     "name": "stdout",
     "output_type": "stream",
     "text": [
      "垂直合并\n",
      "0    0\n",
      "1    1\n",
      "2    2\n",
      "3    3\n",
      "4    4\n",
      "0    a\n",
      "1    b\n",
      "2    c\n",
      "3    d\n",
      "4    e\n",
      "dtype: object\n",
      "水平合并\n",
      "   0  1\n",
      "0  0  a\n",
      "1  1  b\n",
      "2  2  c\n",
      "3  3  d\n",
      "4  4  e\n"
     ]
    }
   ],
   "source": [
    "ser1 = pd.Series(range(5))\n",
    "ser2 = pd.Series(list('abcde'))\n",
    "\n",
    "# 垂直合并\n",
    "print(\"垂直合并\")\n",
    "ser3 = ser1.append(ser2)\n",
    "print(ser3)\n",
    "\n",
    "# 水平合并\n",
    "print(\"水平合并\")\n",
    "df = pd.concat([ser1, ser2], axis=1)\n",
    "print(df)"
   ]
  },
  {
   "cell_type": "code",
   "execution_count": null,
   "id": "legendary-shelter",
   "metadata": {},
   "outputs": [],
   "source": []
  }
 ],
 "metadata": {
  "kernelspec": {
   "display_name": "Python 3",
   "language": "python",
   "name": "python3"
  },
  "language_info": {
   "codemirror_mode": {
    "name": "ipython",
    "version": 3
   },
   "file_extension": ".py",
   "mimetype": "text/x-python",
   "name": "python",
   "nbconvert_exporter": "python",
   "pygments_lexer": "ipython3",
   "version": "3.6.5"
  }
 },
 "nbformat": 4,
 "nbformat_minor": 5
}
